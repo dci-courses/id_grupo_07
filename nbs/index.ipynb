{
 "cells": [
  {
   "cell_type": "code",
   "execution_count": null,
   "metadata": {},
   "outputs": [],
   "source": [
    "#| hide\n",
    "from id_grupo_07.core import *"
   ]
  },
  {
   "cell_type": "markdown",
   "metadata": {},
   "source": [
    "# PosturApp\n",
    "\n",
    "> Repositorio de Ingenieria de Datos - Grupo 07 - Cesar Astudillo, Alfredo Avila"
   ]
  },
  {
   "cell_type": "markdown",
   "metadata": {},
   "source": [
    "## Problema"
   ]
  },
  {
   "cell_type": "markdown",
   "metadata": {},
   "source": [
    "La mala postura en entornos laborales es un problema común que afecta a millones de trabajadores, especialmente aquellos que pasan largas horas sentados frente a computadores, o aquellos realizando tareas repetitivas. \n",
    "\n",
    "Esta mala postura al sentarse puede generar problemas de salud a largo plazo, como dolor de espalda, cuello, hombros, trastornos musculoesqueléticos y fatiga, lo que influye en la productividad y el bienestar general de los empleados."
   ]
  },
  {
   "cell_type": "markdown",
   "metadata": {},
   "source": [
    "## Solución"
   ]
  },
  {
   "cell_type": "markdown",
   "metadata": {},
   "source": [
    "![Afiche de proyecto](Assets/Afiche.jpg)"
   ]
  },
  {
   "cell_type": "markdown",
   "metadata": {},
   "source": [
    "El proyecto **PosturApp** consiste en un sistema que, a través de una webcam, detecta la mala postura del usuario, y envía una alerta al usuario para recordarle mejorar su postura."
   ]
  },
  {
   "cell_type": "markdown",
   "metadata": {},
   "source": [
    "### Funcionamiento"
   ]
  },
  {
   "cell_type": "markdown",
   "metadata": {},
   "source": [
    "El software escanea constantemente la imagen obtenida por la cámara, utilizando el modelo entrenado con las imágenes de posturas para identificar si la postura del sujeto presente en la imagen tiene o no buena postura.\n",
    "\n",
    "Si la postura es reconocida como buena, el software sólo continúa analizando la imagen.\n",
    "\n",
    "Si la postura es identificada como mala, se envía una alerta al usuario para corregir."
   ]
  }
 ],
 "metadata": {
  "kernelspec": {
   "display_name": "python3",
   "language": "python",
   "name": "python3"
  }
 },
 "nbformat": 4,
 "nbformat_minor": 4
}
